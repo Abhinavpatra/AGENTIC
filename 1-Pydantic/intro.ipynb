{
 "cells": [
  {
   "cell_type": "markdown",
   "id": "73dc6219",
   "metadata": {},
   "source": [
    "Pydantic basics: Creating and using Models\n",
    "Pydantic models are the foundation of data validation in Python. They use Python type annotations to define the structure and validate the data at runtime. "
   ]
  },
  {
   "cell_type": "code",
   "execution_count": 2,
   "id": "949e8edb",
   "metadata": {},
   "outputs": [],
   "source": [
    "from pydantic import BaseModel"
   ]
  },
  {
   "cell_type": "code",
   "execution_count": 7,
   "id": "e270ccfe",
   "metadata": {},
   "outputs": [
    {
     "name": "stdout",
     "output_type": "stream",
     "text": [
      "name='Abhi' age=21 city='rkl'\n"
     ]
    },
    {
     "data": {
      "text/plain": [
       "__main__.Person"
      ]
     },
     "execution_count": 7,
     "metadata": {},
     "output_type": "execute_result"
    }
   ],
   "source": [
    "class Person(BaseModel):\n",
    "    name: str\n",
    "    age: int\n",
    "    city: str\n",
    "\n",
    "person  = Person(name = \"Abhi\",age = 21, city = \"rkl\")\n",
    "print(person)\n",
    "type(person)"
   ]
  },
  {
   "cell_type": "code",
   "execution_count": 4,
   "id": "75a36ea1",
   "metadata": {},
   "outputs": [
    {
     "name": "stdout",
     "output_type": "stream",
     "text": [
      "id=1 name='Abhinav' salary=0.0 is_active=True\n"
     ]
    }
   ],
   "source": [
    "from typing import Optional\n",
    "class Emp(BaseModel):\n",
    "    id: int\n",
    "    name: str\n",
    "    salary: Optional[float] = 0.00\n",
    "    is_active: Optional[bool] = True\n",
    "emp1 = Emp(id=1, name=\"Abhinav\")\n",
    "print(emp1)\n"
   ]
  },
  {
   "cell_type": "code",
   "execution_count": null,
   "id": "aeafe3f9",
   "metadata": {},
   "outputs": [],
   "source": [
    "from typing import List\n",
    "\n",
    "class Classroom(BaseModel):\n",
    "    room_number:str\n",
    "    students: List[str]\n",
    "    capacity: int\n",
    "\n",
    "try: \n",
    "    value = Classroom(room_number=\"A1\", students=[\"krish\",123], capacity=10)\n",
    "except ValueError as e:\n",
    "    print(e)"
   ]
  },
  {
   "cell_type": "code",
   "execution_count": null,
   "id": "603a9a1e",
   "metadata": {},
   "outputs": [
    {
     "name": "stdout",
     "output_type": "stream",
     "text": [
      "username='Abhinav' age=18 email='user@gmail.com'\n",
      "username='Bob' age=100 email='bob@do.com'\n"
     ]
    }
   ],
   "source": [
    "from pydantic import Field\n",
    "\n",
    "class User(BaseModel):\n",
    "    username: str = Field(..., description=\"Unique username\")\n",
    "    age: int = Field(default=18, ge=10, le=100)\n",
    "    email: str = Field(default_factory=lambda: \"user@gmail.com\",description=\"SOme odd decription\")\n",
    " \n",
    "user1 = User(username=\"Abhinav\")\n",
    "print(user1)\n",
    "\n",
    "user2 = User(username=\"Bob\", age=101, email=\"bob@do.com\")\n",
    "\n",
    "# user2 = User(username=\"Bob\", age=101, email=\"bob@do.com\")\n",
    "# This above line will give an error, since age has to be less than 100 as specified.\n",
    "print(user2)"
   ]
  }
 ],
 "metadata": {
  "kernelspec": {
   "display_name": "venv",
   "language": "python",
   "name": "python3"
  },
  "language_info": {
   "codemirror_mode": {
    "name": "ipython",
    "version": 3
   },
   "file_extension": ".py",
   "mimetype": "text/x-python",
   "name": "python",
   "nbconvert_exporter": "python",
   "pygments_lexer": "ipython3",
   "version": "3.12.3"
  }
 },
 "nbformat": 4,
 "nbformat_minor": 5
}
